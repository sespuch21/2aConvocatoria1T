{
 "cells": [
  {
   "cell_type": "markdown",
   "id": "d9409ac2-a03e-4f1b-bf13-b4f9b743f14b",
   "metadata": {},
   "source": [
    "# Nivell 1"
   ]
  },
  {
   "cell_type": "markdown",
   "id": "609ca539-a174-4a0f-be33-24070963768b",
   "metadata": {},
   "source": [
    "## Exercici 1"
   ]
  },
  {
   "cell_type": "markdown",
   "id": "53d6ee41-5ba9-4ac6-a4ff-4c044befc748",
   "metadata": {},
   "source": [
    "### Codi font: Característiques\n",
    "Indica **quines** de les següents característiques es poden relacionar amb el codi font:\n",
    "\n",
    "    a) Un programador el pot editar i modificar-ne el comportament de forma senzilla.    \n",
    "    b) L'ordinador pot llegir el codi i executar-lo directament.\n",
    "    c) Els programes com processadors de textos o entorns de desenvolupament els poden interpretar i mostrar per pantalla de forma correcta.\n",
    "    d) El codi es troba sempre optimitzat per estalviar memòria i temps d'execució.\n",
    "    e) Existeixen diferents llenguatges de programació per escriure'ls.\n",
    "    f) El codi és sempre el mateix sigui quina sigui la plataforma sobre la qual s'ha d'executar.\n"
   ]
  },
  {
   "cell_type": "markdown",
   "id": "2ddd1c47-2e84-4ab8-a634-337b77954e28",
   "metadata": {},
   "source": [
    "//La teva resposta aquí. **Justifica la resposta**.\n",
    "\n",
    "a) Si, ja que esta escrit en un codi escrit per algu i no ha sigut tranformat de cap forma. \n",
    "b) No, encara falten diferents passos com afeguir libreries per poder entendre el codi al 100% i convertir-lo en codi binari.\n",
    "c) Si, ja que no es nessecita cap eina professional per poder mostra un copi o modificar-lo. Aixo si, no pots executar el codi de forma rapida ja que primer es te de copilar.\n",
    "d) No, es una part molt important, quan acabis un codi has de comprobar i millorar posibles repeticions o codi que sigui innecessari.\n",
    "e) Si, cada llengutge esta mes adaptat a la seva funcio, uns son millor copilant, altres amb estructuracio, altres en en programacio per objectas. \n",
    "f) No, cambia sobre el llengutge"
   ]
  },
  {
   "cell_type": "markdown",
   "id": "ed1b2f74-f516-4935-bc2d-a74d3d7c050a",
   "metadata": {},
   "source": [
    "### Codi font: Representació\n",
    "Indica quina de les figures representa millor el codi font:\n",
    "\n",
    "![codi font, codi binari](images/codes_src_bin.png)"
   ]
  },
  {
   "cell_type": "markdown",
   "id": "f1cf5c3c-cd47-4063-b493-a4532f332cd9",
   "metadata": {},
   "source": [
    "//La teva resposta aquí. **Justifica la resposta**.\n",
    "\n",
    "A ja que encara no ha sigut copilat i no el pot entendre una maquina."
   ]
  },
  {
   "cell_type": "markdown",
   "id": "d2156734-41e9-46dd-9174-ab041b411d9d",
   "metadata": {},
   "source": [
    "### Codi objecte: Característiques\n",
    "\n",
    "Indica **quines** de les següents característiques es poden relacionar amb el codi objecte:\n",
    "\n",
    "    a) Un programador el pot editar i modificar-ne el comportament de forma senzilla.\n",
    "    b) L'ordinador pot llegir el codi i executar-lo directament.\n",
    "    c) Els programes com processadors de textos o entorns de desenvolupament els poden interpretar i mostrar per pantalla de forma correcta.\n",
    "    d) El codi es troba sempre optimitzat per estalviar memòria i temps d'execució.\n",
    "    e) Existeixen diferents llenguatges de programació per escriure'ls.\n",
    "    f) El codi és sempre el mateix sigui quina sigui la plataforma sobre la qual s'ha d'executar."
   ]
  },
  {
   "cell_type": "markdown",
   "id": "157617b7-c8e4-494d-b943-fc11504b48c1",
   "metadata": {},
   "source": [
    "//La teva resposta aquí. **Justifica la resposta**.\n",
    "\n",
    "a) Si, ja que esta escrit en un codi escrit per algu i no ha sigut tranformat de cap forma. \n",
    "b) No, encara falta convertir-lo en codi binari.\n",
    "c) Si, ja que no es nessecita cap eina professional per poder mostra un copi o modificar-lo. Aixo si, no pots executar el codi de forma rapida ja que primer es te de copilar.\n",
    "d) No, es una part molt important, quan acabis un codi has de comprobar i millorar posibles repeticions o codi que sigui innecessari.\n",
    "e) Si, cada llengutge esta mes adaptat a la seva funcio, uns son millor copilant, altres amb estructuracio, altres en en programacio per objectas. \n",
    "f) No, cambia sobre el llengutge"
   ]
  },
  {
   "cell_type": "markdown",
   "id": "b5363056-c144-4c61-aa52-741faa23847b",
   "metadata": {},
   "source": [
    "### Codi objecte: Representació\n",
    "Indica quina de les figures representa millor el codi objecte:\n",
    "\n",
    "![codi font, codi binari](images/codes_src_bin.png)"
   ]
  },
  {
   "cell_type": "markdown",
   "id": "fd89e185-6855-4501-85e9-66c06b548ffa",
   "metadata": {},
   "source": [
    "//La teva resposta aquí. **Justifica la resposta**.\n",
    "\n",
    "A ja que encara no ha sigut copilat i no el pot entendre una maquina."
   ]
  },
  {
   "cell_type": "markdown",
   "id": "1472c712-d46c-4d55-87cc-95a5f66eb316",
   "metadata": {},
   "source": [
    "### Codi executable: Característiques\n",
    "\n",
    "Indica quines de les següents característiques es poden relacionar amb el codi executable:\n",
    "\n",
    "    a) Un programador el pot editar i modificar-ne el comportament de forma senzilla.\n",
    "    b) L'ordinador pot llegir el codi i executar-lo directament.\n",
    "    c) Els programes com processadors de textos o entorns de desenvolupament els poden interpretar i mostrar per pantalla de forma correcta.\n",
    "    d) El codi es troba sempre optimitzat per estalviar memòria i temps d'execució.\n",
    "    e) Existeixen diferents llenguatges de programació per escriure'ls.\n",
    "    f) El codi és sempre el mateix sigui quina sigui la plataforma sobre la qual s'ha d'executar."
   ]
  },
  {
   "cell_type": "markdown",
   "id": "c5393a3c-08e6-41d4-aa15-72b4036f7b53",
   "metadata": {},
   "source": [
    "//La teva resposta aquí. **Justifica la resposta**.\n",
    "\n",
    "a) No, ja que el codi esta en codi binari. \n",
    "b) Si, ja que esta copilat i traduit a codi binari.\n",
    "c) No, es llengutge molt avanzat i ens mostra uns simbols de interrogant.\n",
    "d) Si.\n",
    "e) No, sols funciona codi binari.\n",
    "f) Si."
   ]
  },
  {
   "cell_type": "markdown",
   "id": "6f0a0a4e-7986-4d52-84e8-0f25a81b37b1",
   "metadata": {},
   "source": [
    "### Codi executable: Representació\n",
    "Indica quina de les figures representa millor el codi executable:\n",
    "\n",
    "![codi font, codi binari](images/codes_src_bin.png)"
   ]
  },
  {
   "cell_type": "markdown",
   "id": "d0b81a42-ca01-4696-a9f0-669028317a25",
   "metadata": {},
   "source": [
    "//La teva resposta aquí. **Justifica la resposta**.\n",
    "\n",
    "A ja que es un llengutge maquina i ja esta copilat i capacitat per ser executat"
   ]
  },
  {
   "cell_type": "markdown",
   "id": "ec565f9f-5e3d-4620-93b4-a1ec2e351fac",
   "metadata": {},
   "source": [
    "## Exercici 2"
   ]
  },
  {
   "cell_type": "markdown",
   "id": "93bb9345-e34a-46dc-84ff-cc348db1290f",
   "metadata": {},
   "source": [
    "Preguntes: **cal que justifiquis** les teves respostes, **escrites amb paraules teves** i no copiades d'altres fonts d'informació.\n",
    "\n",
    "    a) Explica amb les teves pròpies paraules, i amb el màxim de precisió possible, quina és la tasca del \"compilador\".\n",
    "    b) Explica amb les teves pròpies paraules, i amb el màxim de precisió possible, quina és la tasca de l'\"enllaçador\".\n",
    "    c) Explica amb les teves pròpies paraules, i amb el màxim de precisió possible, quina diferència hi ha exactament entre el codi objecte i el codi executable."
   ]
  },
  {
   "cell_type": "markdown",
   "id": "c33ac971-436c-4748-b29d-e946846a3786",
   "metadata": {},
   "source": [
    "// a) Es transformar el codi executable en en codi binari, perque la maquina el pugui entendre, també optimitzar el codi."
   ]
  },
  {
   "cell_type": "markdown",
   "id": "003ae205-7ccf-462c-b63c-2d239ad1bcc3",
   "metadata": {},
   "source": [
    "// b) Es afeguir les libreries pertinents per el correcta funcionament del codi."
   ]
  },
  {
   "cell_type": "markdown",
   "id": "ac10a892-0c65-4cb3-8f78-d29e5d217229",
   "metadata": {},
   "source": [
    "// c) Al codi objecta esta preparat amb les libreries, mentre que encara falta el copilador que canvia el codi de alfabetic a binari, cosa que un ordinador el pogui entedre"
   ]
  },
  {
   "cell_type": "markdown",
   "id": "3936939e-677a-4369-9e88-bb592d06e35c",
   "metadata": {},
   "source": []
  },
  {
   "cell_type": "markdown",
   "id": "f5d5f367-a69e-4f52-bba6-16c61f822f76",
   "metadata": {},
   "source": [
    "**Abans de continuar al següent nivell o si vols fer el lliurament**: Fes un git add i un git commit de la branca _main_, amb el següent missatge: **Nom Cognom: nivell 1 acabat**.\n",
    "\n"
   ]
  },
  {
   "cell_type": "code",
   "execution_count": null,
   "id": "01aa585d-fb34-4556-9300-ed33e7cfdeee",
   "metadata": {
    "vscode": {
     "languageId": "java"
    }
   },
   "outputs": [],
   "source": []
  }
 ],
 "metadata": {
  "kernelspec": {
   "display_name": "Java 11",
   "language": "java",
   "name": "java"
  },
  "language_info": {
   "codemirror_mode": "java",
   "file_extension": ".jshell",
   "mimetype": "text/x-java-source",
   "name": "Java",
   "pygments_lexer": "java",
   "version": "11.0.11+9-Ubuntu-0ubuntu2.20.04"
  }
 },
 "nbformat": 4,
 "nbformat_minor": 5
}
