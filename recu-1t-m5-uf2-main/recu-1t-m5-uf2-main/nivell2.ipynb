{
 "cells": [
  {
   "cell_type": "markdown",
   "id": "d9409ac2-a03e-4f1b-bf13-b4f9b743f14b",
   "metadata": {},
   "source": [
    "# Nivell 2"
   ]
  },
  {
   "cell_type": "markdown",
   "id": "fc5a91a8-7aa8-4ffa-92b4-a36266d4507f",
   "metadata": {},
   "source": [
    "## Exercici 1 (POO)"
   ]
  },
  {
   "cell_type": "markdown",
   "id": "3f8e3672-312e-430a-a0b6-b3207ab8793e",
   "metadata": {},
   "source": [
    "### Fase 0: Preparació\n",
    "\n",
    "Abans de començar cal que creeu un projecte Java amb intellIJ, tal com s'ha treballat en altres activitats.\n",
    "> Heu de crear un projecte java anomenat ```m5poo``` i un cop acabat, **fiqueu-lo dins del repositori que pengeu com a solució**."
   ]
  },
  {
   "cell_type": "markdown",
   "id": "dad2fe30-62c5-42b6-869c-3592cce5ac00",
   "metadata": {},
   "source": [
    "### Fase 1: Abstracció i modularitat\n",
    "\n",
    "Pensa en alguna cosa que t’agradi o t’interessi (videojocs, música, esports, ciència...) i aplica el concepte d’abstracció per a determinar 3 classes que conformaran el teu model de dades. Per exemple, si trio com a temàtica els cotxes, les classes podrien ser: cotxe; roda; porta."
   ]
  },
  {
   "cell_type": "markdown",
   "id": "50ca4188-ff6e-4fef-977f-a3fce0adfc90",
   "metadata": {},
   "source": [
    "   1. Quines son les 3 classes que has escollit i per què creus que encaixen amb el model d’abstracció?\n",
    "   \n",
    "→ La teva resposta aquí ←\n",
    "\n",
    "He escollit diferents estatus de un institut, Alumne, Professori director, ja que poden encaixar bé per el tema de funcions i atributs."
   ]
  },
  {
   "cell_type": "markdown",
   "id": "5f762b46-791f-4efa-9ad2-816aba8390ae",
   "metadata": {},
   "source": [
    "   2. Explica amb les teves pròpies paraules què entenem per objecte (dins el paradigma d’objectes) i com es relaciona amb el concepte d’abstracció.\n",
    "   \n",
    "→ La teva resposta aquí ←\n",
    "\n",
    "La programacio per objectas es fer una descripcio de un objecta ja siguin les seves caracteristicas, o la seva funcio. Per despres poder crear o utilitzar dades utilitzan el objecta anteriorment creat."
   ]
  },
  {
   "cell_type": "markdown",
   "id": "974eb110-185b-49b6-a2a5-23859df41015",
   "metadata": {},
   "source": [
    "   3. Explica amb les teves pròpies paraules què entenem pel concepte de modularitat.\n",
    "   \n",
    "→ La teva resposta aquí ←\n",
    "\n",
    "Descripcio de un objecta amb el cual despres podren fer servir de forma especifica."
   ]
  },
  {
   "cell_type": "markdown",
   "id": "21d633a0-a2f4-42a8-a618-5a7e31dd8876",
   "metadata": {},
   "source": [
    "### Fase 2: Encapsulació"
   ]
  },
  {
   "cell_type": "markdown",
   "id": "006c3386-1b2d-4279-8faa-d83b4ae7b76e",
   "metadata": {},
   "source": [
    "Al projecte java ```m5poo```, de totes les classes que has definit tria i crea la que consideris la classe principal o més important (seguin l’exemple de l’apartat anterior, parlaríem del cotxe) i afegeix-li 3 atributs i 2 mètodes públics tots ells. Per exemple, el cotxe tindria 3 atributs: marca, model i versió; mentre que tindria dos mètodes: arrencar i aturar.\n",
    "\n",
    "Exemple:\n",
    "\n",
    "![cotxe](images/cotxe.png)"
   ]
  },
  {
   "cell_type": "markdown",
   "id": "82c91195-6cab-45c0-bb4b-0f3458e07dd9",
   "metadata": {},
   "source": [
    "   1. Instancia un objecte del tipus que acabes de modificar (amb atributs i mètodes) dins el mètode \"main\" de la classe \"App\" i explora el seu contingut amb l’inspector d’objectes. Això ho pots fer fent servir la variable que acabes de declarar seguida d’un punt:\n",
    "\n",
    "![inspector](images/inspector.png)\n",
    "\n",
    "_Nota_: la classe Main a aquesta imatge s'anomena App a vscode."
   ]
  },
  {
   "cell_type": "markdown",
   "id": "e83c6996-edc1-4b2d-a0dd-9cd90955d77b",
   "metadata": {},
   "source": [
    "   2. Hauries de poder veure els mètodes i atributs que has declarat dins el teu objecte (ignora la resta). Sabries dir per que són visibles (i accessibles) des de la classe \"App\"?\n",
    "   \n",
    "→ La teva resposta aquí ← \n",
    "Ja que amb la etiqueta public tornem una funcio o atribut visible per tots els altres codis."
   ]
  },
  {
   "cell_type": "markdown",
   "id": "b1853792-1119-432f-b023-0256759acc34",
   "metadata": {},
   "source": [
    "   3. Modifica un dels atributs per a que sigui \"private\" i torna a repetir el pas anterior, sabries dir que ha canviat i per què?\n",
    "   \n",
    "→ La teva resposta aquí ← \n",
    "\n",
    "Si, al cambiar el estat del atribut a privat aixo comporta que sols els mateixos fills els poden veure dintre del mateix codi."
   ]
  },
  {
   "cell_type": "markdown",
   "id": "2c940585-78c9-48a6-94f8-985498634df3",
   "metadata": {},
   "source": [
    "   4. Els conceptes que acabes de posar en pràctica tenen a veure amb la encapsulació, explica amb les teves paraules en què consisteix aquest concepte.\n",
    "   \n",
    "→ La teva resposta aquí ← \n",
    "\n",
    "Crear una classe de un objecta a describir i guardar o encapsular atributs o funcions de forma que sols els pugui veure o modificar parts del codi."
   ]
  },
  {
   "cell_type": "markdown",
   "id": "e5eac30b-97d3-4ab3-a5a3-85646f073baa",
   "metadata": {},
   "source": [
    "## Exercici 2 (POO)\n",
    "\n",
    "_Nota_: aquest exercici és continuació de l'exercici anterior."
   ]
  },
  {
   "cell_type": "markdown",
   "id": "3436098a-a41a-4a86-8be0-d40de49cac59",
   "metadata": {},
   "source": [
    "### Fase 1: Jerarquia"
   ]
  },
  {
   "cell_type": "markdown",
   "id": "e8cab99e-187e-4775-83f0-d3a9991e3d08",
   "metadata": {},
   "source": [
    "És possible que hagis pensat en una classe que es troba estretament relacionada amb una altra, de tal manera que podríem dir que una **és un tipus de** l'altra. Per exemple, ens podríem inventar dues classes noves: Persona i Pilot: tot pilot **és un tipus de** persona i per tant compartiran informació com es pot veure a l’exemple següent:\n",
    "\n",
    "![herencia1](images/herencia1.png)"
   ]
  },
  {
   "cell_type": "markdown",
   "id": "fc70b497-ac0d-492e-8d47-a5ddaa0eabb2",
   "metadata": {},
   "source": [
    "Una bona manera de compartir informació es mitjançant l’**herència**, on diem que una classe (classe filla o subclasse) **és d'un tipus d**'una altra (superclasse) i n’_hereta_ la informació de l'altra. Seguint aquest exemple Pilot hereta de Persona, ja que Persona és més genèric i Pilot quelcom més específic:\n",
    "\n",
    "![herencia2](images/herencia2.png)"
   ]
  },
  {
   "cell_type": "markdown",
   "id": "37fc9ecb-8f69-44a7-af84-750ea26bb53e",
   "metadata": {},
   "source": [
    "La classe Pilot està heretant (o estenent) la classe Persona i, per tant, la classe Pilot tindrà els mateixos mètodes i atributs que la classe Persona:\n",
    "\n",
    "\n",
    "![herencia3](images/herencia3.png)"
   ]
  },
  {
   "cell_type": "markdown",
   "id": "86a35834-0338-4107-aba4-73f8a904f0ef",
   "metadata": {},
   "source": [
    "   1. Si no tens dues classes que siguin susceptibles d’heretar una de l’altra, crea-les al teu projecte java, pots fer quelcom tan senzill com el que s’ha mostrat a l’exemple anterior. Quines classes has decidit crear (o ja tenies) i creus que son susceptibles d’encaixar en el model jeràrquic i per què?\n",
    "   \n",
    "→ La teva resposta aquí ← \n",
    "\n",
    "no ja que no tenen res en comu, pero crear un objecta persona es podria aplicar la extencio per mantindre els mateixos atributs i funcions sense tornar-los a escriure a cada classe."
   ]
  },
  {
   "cell_type": "markdown",
   "id": "2124c207-7b9d-4c6b-8173-b160588040ce",
   "metadata": {},
   "source": [
    "   2. Modifica un dels atributs de la classe principal (li direm superclasse) per a que sigui de tipus \"private\", seguint l’exemple del tutorial instancia una classe secundària (li direm subclasse) i inspecciona els seus atributs. Que ha passat i per què?\n",
    "   \n",
    "→ La teva resposta aquí ← "
   ]
  },
  {
   "cell_type": "markdown",
   "id": "17933481-8b63-4fdf-90c0-4aa378cbd0ef",
   "metadata": {},
   "source": [
    "   3. El següent quadre mostra la correlació entre les visibilitats (referents a l’encapsulació) dins el seu domini o \"scope\". Sabries dir què vol dir que un atribut és \"protected\"?\n",
    "\n",
    "![visibilitat](images/visibilitat.png)\n",
    "\n",
    "→ La teva resposta aquí ← \n",
    "\n",
    "Es visible per la classe a la cual pertany, visible per les subclasses que pogui tindre el codi i per package.\n"
   ]
  },
  {
   "cell_type": "markdown",
   "id": "01e37204-7aaa-4df3-b1d8-6f8517c3b455",
   "metadata": {},
   "source": [
    "   4. Una relació de **composició** vol dir que una classe té sentit (existeix) si en forma part d’una altra. Per exemple: les portes i el cotxe; si el cotxe no existeix les portes tampoc tenen sentit i, per tant, si s’esborra la informació del cotxe també s’hauria d’esborrar la informació de les portes.  Sabries dir quina diferència hi ha entre una relació de composició i una relació d’agregació? Pots posar algun exemple de composició i d'agregació al teu projecte java?\n",
    "    \n",
    "→ La teva resposta aquí ← "
   ]
  },
  {
   "cell_type": "markdown",
   "id": "a7525173-3857-4079-9bf7-91021b157503",
   "metadata": {},
   "source": [
    "### Fase 2 Polimorfisme"
   ]
  },
  {
   "cell_type": "markdown",
   "id": "abeefbf2",
   "metadata": {},
   "source": [
    "Si no el tens creat, crea un mètode public a la teva superclasse. No cal que faci res d’especial, com el de l’exemple:\n",
    "\n",
    "![polim1](images/polim1.png)"
   ]
  },
  {
   "cell_type": "markdown",
   "id": "2dba25c1-b99d-48aa-afde-f2afd005840f",
   "metadata": {},
   "source": [
    "Si executem el mètode des de la classe App i arranquem el programa hauríem de veure la salutació a la consola:\n",
    "\n",
    "![polim2](images/polim2.png)"
   ]
  },
  {
   "cell_type": "markdown",
   "id": "78425654-090f-42c4-b468-6df58194c9e1",
   "metadata": {},
   "source": [
    "   1. Fes el mateix que s’ha fet a l’exemple però en comptes de fer servir la superclasse (Persona en l’exemple) fes-ho amb la subclasse (Pilot en l’exemple). Quin resultat has obtingut i per què?\n",
    "   \n",
    "→ La teva resposta aquí ← \n",
    "\n",
    "\n",
    "Error ja que no arriba a cargar la superclasse."
   ]
  },
  {
   "cell_type": "markdown",
   "id": "91db35eb-d8cd-4f1a-838e-e5270f57d3c2",
   "metadata": {},
   "source": [
    "   2. Crea un nou mètode a la subclasse que es digui exactament igual que el anterior però que faci quelcom diferent, com suggereix aquest exemple:\n",
    "    \n",
    "![polim3](images/polim3.png)    "
   ]
  },
  {
   "cell_type": "markdown",
   "id": "214d4485-c7c7-4e35-bcd5-605fba605ddb",
   "metadata": {},
   "source": [
    "A continuació executa el mètode per a la superclasse (com a l’exemple anterior) i després per a la subclasse que acabes de modificar, com es mostra a l’exemple: \n",
    "\n",
    "![polim4](images/polim4.png) "
   ]
  },
  {
   "cell_type": "markdown",
   "id": "42ce40f7-23fd-4df4-88de-851a9d5a3aa5",
   "metadata": {},
   "source": [
    "   Que ha passat i per què?\n",
    "   \n",
    "→ La teva resposta aquí ← \n",
    "\n",
    "Ara al carregar la classe superior ja pot localitzar on guardara els atributs i localitzar les funcions."
   ]
  },
  {
   "cell_type": "markdown",
   "id": "938bfc64-187a-4727-bbbc-af2c6cd8dd91",
   "metadata": {},
   "source": [
    "   3. Modifica l'exemple de l'apartat anterior de manera que s'assigni un objecte pilot a una variable de tipus Persona. Executa el mètode saluda() i comprova què passa.\n",
    "    \n",
    "   Ara fem-ho al revés: assigna un objecte persona a una variable de tipus Pilot i intenta executar el mètode saluda().\n",
    "    \n",
    "   Què passa en ambdós casos i per què?\n",
    "   \n",
    "→ La teva resposta aquí ← "
   ]
  },
  {
   "cell_type": "markdown",
   "id": "340a689a-ed95-46fc-b5e0-d42cb8bd13e5",
   "metadata": {},
   "source": [
    "   3. Ara crea un nou mètode (a la classe o a la superclasse, es indiferent) que es digui exactament igual que el anterior però que tingui una quantitat de paràmetres diferents i, a l’hora, un comportament també diferent com es mostra a l’exemple següent:\n",
    "    \n",
    " ![sobrecarr](images/sobrecarr.png) "
   ]
  },
  {
   "cell_type": "markdown",
   "id": "6d82e314-bcfd-440c-9835-2fe6df43b1e6",
   "metadata": {},
   "source": [
    "     Si fas la prova veuràs que pots executar dos mètodes que es diuen igual però que tenen paràmetres diferents i comportaments diferents. Sabries dir com es diu aquesta característica i quina utilitat pot tindre?\n",
    "     \n",
    "→ La teva resposta aquí ← "
   ]
  },
  {
   "cell_type": "code",
   "execution_count": null,
   "id": "00003638-6779-4432-bff9-0dee87089eca",
   "metadata": {
    "vscode": {
     "languageId": "java"
    }
   },
   "outputs": [],
   "source": []
  }
 ],
 "metadata": {
  "kernelspec": {
   "display_name": "Java 11",
   "language": "java",
   "name": "java"
  },
  "language_info": {
   "codemirror_mode": "java",
   "file_extension": ".jshell",
   "mimetype": "text/x-java-source",
   "name": "Java",
   "pygments_lexer": "java",
   "version": "11.0.11+9-Ubuntu-0ubuntu2.20.04"
  },
  "nbTranslate": {
   "displayLangs": [
    "*"
   ],
   "hotkey": "alt-t",
   "langInMainMenu": true,
   "sourceLang": "en",
   "targetLang": "ca",
   "useGoogleTranslate": true
  },
  "toc": {
   "base_numbering": 1,
   "nav_menu": {},
   "number_sections": true,
   "sideBar": true,
   "skip_h1_title": false,
   "title_cell": "Table of Contents",
   "title_sidebar": "Contents",
   "toc_cell": false,
   "toc_position": {},
   "toc_section_display": true,
   "toc_window_display": false
  },
  "varInspector": {
   "cols": {
    "lenName": 16,
    "lenType": 16,
    "lenVar": 40
   },
   "kernels_config": {
    "python": {
     "delete_cmd_postfix": "",
     "delete_cmd_prefix": "del ",
     "library": "var_list.py",
     "varRefreshCmd": "print(var_dic_list())"
    },
    "r": {
     "delete_cmd_postfix": ") ",
     "delete_cmd_prefix": "rm(",
     "library": "var_list.r",
     "varRefreshCmd": "cat(var_dic_list()) "
    }
   },
   "types_to_exclude": [
    "module",
    "function",
    "builtin_function_or_method",
    "instance",
    "_Feature"
   ],
   "window_display": false
  }
 },
 "nbformat": 4,
 "nbformat_minor": 5
}
